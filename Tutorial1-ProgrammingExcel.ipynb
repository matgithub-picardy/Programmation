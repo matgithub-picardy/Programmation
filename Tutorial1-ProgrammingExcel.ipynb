{
 "cells": [
  {
   "cell_type": "markdown",
   "id": "7a4404d1-c048-401a-b801-3efef8622b39",
   "metadata": {
    "editable": true,
    "slideshow": {
     "slide_type": ""
    },
    "tags": []
   },
   "source": [
    "# Tutorial 1: The Basics of Excel for Economists\n",
    "Excel is a powerful tool for economists, businesses, and policymakers. It allows users to manage and analyze large datasets, perform complex calculations, and visualize trends. For economists, Excel is an essential tool for tasks such as forecasting, budget analysis, econometric modeling, and financial planning. It is widely used in firms for financial reporting, data analysis, and decision-making. From analyzing market trends to tracking expenses, Excel provides versatile functionality that supports efficient decision-making in economic contexts.\n",
    "\n",
    "**Key applications of Excel in economics include:**\n",
    "\n",
    "- **Data analysis:** Cleaning, organizing, and analyzing data from surveys, government reports, and financial records.\n",
    "- **Modeling:** Building economic models, such as demand-supply models, optimization problems, or cost-revenue analysis.\n",
    "- **Forecasting:** Creating projections for economic variables such as inflation, GDP growth, or unemployment.\n",
    "- **Visualization:** Creating charts and graphs to illustrate economic trends or compare financial scenarios.\n",
    "\n",
    "With Excel, you can work with datasets and use built-in tools for functions, statistical analysis, and even integrate it with other software for advanced data processing.\n",
    "\n",
    "### The basics of Excel for economists\n",
    "\n",
    "**Best practices**\n",
    "1. **Starting Excel:** Launch Excel\n",
    "2. **Creating a new workbook:** A workbook can contain multiple sheets, ideal for separating data by economic variable or analysis type.\n",
    "3. **Entering data:** Input raw data such as economic indicators, prices, or time-series data into cells to start your analysis.\n",
    "4. **Creating calculation formulas:** Use formulas to perform operations like calculating the average inflation rate, adding up total sales, or performing growth rate calculations. Inputting Values in Formulas: Make sure values are accurate to avoid misleading economic interpretations.\n",
    "5. **Formatting the table:** Format data for better readability—highlight important figures such as GDP growth or unemployment rates with bold or color-coding.\n",
    "6. **Page setup:** Format your file for printing or sharing by adjusting the layout to include relevant titles, notes, and scales.\n",
    "7. **Saving the file:** Regularly save your workbook to avoid losing important economic data and analyses.\n",
    "\n",
    "\n",
    "**Key definitions**\n",
    "- **Spreadsheet:** The foundation of data organization in Excel, with 16,384 columns and 1,048,576 rows. This space allows the storage and analysis of vast amounts of economic data, such as trade balances or population statistics.\n",
    "- **Workbook:** The \"file\" where all your data, sheets, and analyses are stored. Use separate sheets for different parts of your economic analysis—such as macroeconomic data on one sheet and microeconomic trends on another.\n",
    "    - _best practice:_ Group columns when handling wide datasets, like international trade flows or multi-year financial data, to keep your workbook organized.\n",
    "- **Cell:** The basic unit in Excel, representing a single data point, such as GDP for a specific country at a specific time.\n",
    "    - _best practice:_ When working with large datasets, such as historical economic data, freeze rows or columns (e.g., the top row or first column) to keep headers visible during scrolling.\n",
    "- **Formula:** A custom-written expression used to perform calculations, often utilized to derive financial ratios, calculate percentage changes, or conduct elasticity analysis in economics.\n",
    "    - _best practice:_ Always correct formula errors directly in the formula bar to ensure the accuracy of your data. Avoid leaving blank columns or rows within your data to prevent errors in calculations.\n",
    "- **Function:** A built-in tool for quick data analysis, ranging from basic functions like `SUM()` and `AVERAGE()`, which calculates revenues or average household income, to more complex functions like `IF()` for setting conditions in economic models (e.g., conditional scenarios based on thresholds).\n",
    "    - _best practice:_ Use functions to streamline data analysis and ensure consistency in your models, especially for large datasets like national accounts.\n",
    "- **AutoFill:** Excel’s feature that allows you to quickly create logical sequences of data, such as years or months, making it useful for time-series data in economics.\n",
    "    - _best practice:_ Use AutoFill to automatically populate data in time-series analyses, reducing manual errors when handling sequential data points."
   ]
  },
  {
   "cell_type": "markdown",
   "id": "2ad19f90-a33e-4872-b4ee-cc008998d120",
   "metadata": {
    "editable": true,
    "slideshow": {
     "slide_type": ""
    },
    "tags": [
     "hide"
    ]
   },
   "source": [
    "### Quiz #1\n",
    "What is the basic unit in Excel used to store data?"
   ]
  },
  {
   "cell_type": "markdown",
   "id": "61a367d5-13ed-4523-98db-38370f1b5531",
   "metadata": {},
   "source": [
    "<details>\n",
    "<summary>Click here to see the answer</summary>\n",
    "\n",
    "**The correct answer is:** Cell\n",
    "\n",
    "</details>"
   ]
  },
  {
   "cell_type": "markdown",
   "id": "9f898264-e066-4c35-94c6-0f307824d2e4",
   "metadata": {
    "editable": true,
    "slideshow": {
     "slide_type": ""
    },
    "tags": [
     "hide"
    ]
   },
   "source": [
    "### Quiz #2\n",
    "Which built-in function would you use to calculate the sum of trade balances?"
   ]
  },
  {
   "cell_type": "markdown",
   "id": "22182bb3-ef66-426a-8d4e-96f7b7828e5a",
   "metadata": {},
   "source": [
    "<details>\n",
    "<summary>Click here to see the answer</summary>\n",
    "\n",
    "**The correct answer is:** SUM()\n",
    "\n",
    "</details>"
   ]
  },
  {
   "cell_type": "markdown",
   "id": "43d810ed-19e6-411c-8082-648367bb7421",
   "metadata": {
    "editable": true,
    "slideshow": {
     "slide_type": ""
    },
    "tags": [
     "hide"
    ]
   },
   "source": [
    "### Quiz #3\n",
    "What feature helps you keep column or row headers visible when scrolling through long datasets?"
   ]
  },
  {
   "cell_type": "markdown",
   "id": "3e6d49d7-90d6-42ec-9ddb-d52b9cfe7402",
   "metadata": {},
   "source": [
    "<details>\n",
    "<summary>Click here to see the answer</summary>\n",
    "\n",
    "**The correct answer is:**\n",
    "Freeze Panes\n",
    "\n",
    "</details>"
   ]
  },
  {
   "cell_type": "markdown",
   "id": "a34aaa89-e679-4490-bf5e-cfa2baf1fd14",
   "metadata": {
    "editable": true,
    "slideshow": {
     "slide_type": ""
    },
    "tags": []
   },
   "source": [
    "## Getting Started with Excel\n",
    "\n",
    "To start working with Excel, you first need to launch the application. There are three ways to do this:\n",
    "- Launch Excel from your desktop: Double-click the Excel shortcut icon on your desktop.\n",
    "- Launch Excel from the Start menu: Click the Start button at the bottom-left corner of your screen. Scroll through the installed programs until you reach Excel under \"E\".\n",
    "- Type \"Excel\" in the search bar if you can't find it.\n",
    "\n",
    "### Create a New Workbook\n",
    "When Excel opens, you'll see the \"Home\" screen. Here, you can:\n",
    "- Create a new workbook by selecting \"New Workbook\"\n",
    "- Or use a template from the template gallery, and explore the \"New\" section to see a variety of pre-made options.\n",
    "\n",
    "\n",
    "### Saving a Workbook\n",
    "Once you’ve created your first workbook, it's important to save it. Here's how:\n",
    "- Click the Save icon (a small disk icon) in the Quick Access Toolbar. The Save As dialog box will appear.\n",
    "- Rename the file (e.g., \"My First Workbook\").\n",
    "- Choose a location to save it (e.g., on your computer or OneDrive).\n",
    "- Click Save.\n",
    "\n",
    "You can also use the shortcut Ctrl + S to save your work quickly.\n",
    "\n",
    "### Practice\n",
    "Try saving a workbook with the name \"My First Workbook\".\n",
    "\n",
    "Tip: Use the keyboard shortcut Ctrl + S to save your workbook.\n",
    "\n",
    "### Closing Excel\n",
    "Now that you’ve created and saved a workbook, you can close it:\n",
    "- Go to the File tab and select Close.\n",
    "- Alternatively, click the X button in the upper-right corner of the Excel window. This will close the workbook and exit Excel.\n",
    "\n",
    "### Summary\n",
    "- To open Excel, you can double-click the desktop shortcut or find it in the Start menu.\n",
    "- To save a workbook, click the Save icon or press Ctrl + S.\n",
    "- To close Excel, use the File > Close option or the X button.\n",
    "\n",
    "\n",
    "Congratulations! You've completed the basics of launching, creating, saving, and closing a workbook in Excel. Ready for the next chapter? Let's dive into more features!"
   ]
  },
  {
   "cell_type": "markdown",
   "id": "2189ecb2-ac29-446c-8a2b-931353b29b46",
   "metadata": {
    "editable": true,
    "slideshow": {
     "slide_type": ""
    },
    "tags": []
   },
   "source": [
    "### Quiz #4\n",
    "\n",
    "**How do you open Excel?**\n",
    "1. By pressing Ctrl+E\n",
    "2.  By double-clicking the Excel shortcut on your desktop\n",
    "3.  By running Python code\n"
   ]
  },
  {
   "cell_type": "markdown",
   "id": "d62edba0-c637-4724-a348-1a9a9b0debd2",
   "metadata": {
    "editable": true,
    "slideshow": {
     "slide_type": ""
    },
    "tags": []
   },
   "source": [
    "<details>\n",
    "<summary>Click here to see the answer</summary>\n",
    "\n",
    "**The correct answer is 2**: By double-clicking the Excel shortcut on your desktop.\n",
    "\n",
    "</details>\n"
   ]
  },
  {
   "cell_type": "markdown",
   "id": "25a62784-367e-471e-a50b-2fc68f68a255",
   "metadata": {
    "editable": true,
    "slideshow": {
     "slide_type": ""
    },
    "tags": []
   },
   "source": [
    "### Quiz #5\n",
    "\n",
    "**How do you save a workbook?**\n",
    "1. By pressing Ctrl + S or clicking the Save icon\n",
    "2. By pressing Ctrl + P for printing"
   ]
  },
  {
   "cell_type": "markdown",
   "id": "51d57338-c7b9-4613-adc3-d3fd96737430",
   "metadata": {
    "editable": true,
    "slideshow": {
     "slide_type": ""
    },
    "tags": []
   },
   "source": [
    "<details>\n",
    "<summary>Click here to see the answer</summary>\n",
    "\n",
    "**The correct answer is 1**: By pressing Ctrl + S or clicking the Save icon\n",
    "\n",
    "</details>\n"
   ]
  },
  {
   "cell_type": "markdown",
   "id": "09121913-1607-4390-9ef4-6ca137266d79",
   "metadata": {
    "editable": true,
    "slideshow": {
     "slide_type": ""
    },
    "tags": []
   },
   "source": [
    "### Quiz #6\n",
    "\n",
    "**Which tab allows you to close a workbook?**\n",
    "1. File\n",
    "2. Home"
   ]
  },
  {
   "cell_type": "markdown",
   "id": "dfd2403f-8876-4831-8421-249f215c3954",
   "metadata": {
    "editable": true,
    "slideshow": {
     "slide_type": ""
    },
    "tags": []
   },
   "source": [
    "<details>\n",
    "<summary>Click here to see the answer</summary>\n",
    "\n",
    "**The correct answer is 1**: File\n",
    "\n",
    "</details>\n"
   ]
  },
  {
   "cell_type": "markdown",
   "id": "c2650440-0e5b-42c2-9f6e-98acf9abf5f1",
   "metadata": {
    "editable": true,
    "slideshow": {
     "slide_type": ""
    },
    "tags": []
   },
   "source": [
    "In the following, we will use Python to sum and average economic data. Below, you'll find cells with Python. You don’t need any prior knowledge of Python, but to run the code, simply click on the cell and press \"Shift+Enter.\"\n",
    "\n",
    "This snippet mirrors Excel’s SUM() and AVERAGE() functions. We simulate total revenues and average household income calculations in Python."
   ]
  },
  {
   "cell_type": "code",
   "execution_count": 7,
   "id": "514284c6-636b-473d-83aa-9383ac315b78",
   "metadata": {
    "editable": true,
    "slideshow": {
     "slide_type": ""
    },
    "tags": []
   },
   "outputs": [
    {
     "name": "stdout",
     "output_type": "stream",
     "text": [
      "Total GDP: 44976 billion\n",
      "Average GDP: 8995.20 billion\n"
     ]
    }
   ],
   "source": [
    "import pandas as pd\n",
    "\n",
    "# Sample data: GDP of a few countries in billions\n",
    "data = {'Country': ['USA', 'China', 'Germany', 'France', 'UK'],\n",
    "        'GDP_Billions': [21433, 14140, 3860, 2716, 2827]}\n",
    "\n",
    "df = pd.DataFrame(data)\n",
    "\n",
    "# Calculate the total and average GDP\n",
    "total_gdp = df['GDP_Billions'].sum()\n",
    "average_gdp = df['GDP_Billions'].mean()\n",
    "\n",
    "print(f\"Total GDP: {total_gdp} billion\")\n",
    "print(f\"Average GDP: {average_gdp:.2f} billion\")\n"
   ]
  },
  {
   "cell_type": "code",
   "execution_count": null,
   "id": "2b4233cf-cfb5-4ed6-b23c-02931d6c0e92",
   "metadata": {
    "editable": true,
    "slideshow": {
     "slide_type": ""
    },
    "tags": []
   },
   "outputs": [],
   "source": [
    "from IPython.display import display, Markdown\n",
    "\n",
    "# Quiz function to match scenarios with functions\n",
    "def quiz_function():\n",
    "    display(Markdown(\"### Match the economic scenario with the correct Excel function:\"))\n",
    "    scenarios = {\n",
    "        \"1. Calculate total GDP across multiple regions\": \"SUM()\",\n",
    "        \"2. Find the average inflation rate over 10 years\": \"AVERAGE()\",\n",
    "        \"3. Set a conditional output for GDP growth over 2%\": \"IF()\"\n",
    "    }\n",
    "    options = [\"SUM()\", \"AVERAGE()\", \"IF()\"]\n",
    "    \n",
    "    score = 0\n",
    "    for scenario, correct_func in scenarios.items():\n",
    "        display(Markdown(scenario))\n",
    "        print(\"Options:\", options)\n",
    "        user_answer = input(\"Choose the correct function: \")\n",
    "        if user_answer.strip().upper() == correct_func:\n",
    "            display(Markdown(f\"**Correct!**\"))\n",
    "            score += 1\n",
    "        else:\n",
    "            display(Markdown(f\"**Incorrect!** The correct answer is {correct_func}.\"))\n",
    "    display(Markdown(f\"**Your final score: {score}/{len(scenarios)}**\"))\n",
    "\n",
    "# Start quiz\n",
    "quiz_function()\n"
   ]
  },
  {
   "attachments": {
    "97a20ae0-b62b-4e1c-ab51-441585f44257.jpeg": {
     "image/jpeg": "[encoded data removed]"
    }
   },
   "cell_type": "markdown",
   "id": "9d0455a4-a99e-4726-85f1-3cfb17c323ec",
   "metadata": {},
   "source": [
    "## Create Your First File and Navigate Excel\n",
    "Now that you've launched Excel and created a new workbook, let's explore the key elements of the program window. We'll go step-by-step so that you can easily navigate the interface and master the basics.\n",
    "\n",
    "### The Columns and Rows\n",
    "An Excel window contains a large grid made up of columns and rows:\n",
    "- Columns are identified by letters: A, B, C...\n",
    "- Rows are identified by numbers: 1, 2, 3...\n",
    "\n",
    "Each cell is located at the intersection of a column and a row. For example, in the image below, the selected cell is A1, at the intersection of column A and row 1.\n",
    "\n",
    "<img src=\"attachment:97a20ae0-b62b-4e1c-ab51-441585f44257.jpeg\" alt=\"Chart Image\" width=\"700\">\n"
   ]
  },
  {
   "cell_type": "markdown",
   "id": "0e6048ec-3b19-4491-b1b6-adf6e39220ae",
   "metadata": {},
   "source": [
    "### The Spreadsheet\n",
    "In fact, a worksheet contains far more columns and rows than what you see on the screen. Excel has:\n",
    "- 16,384 columns (from A to XFD).\n",
    "\n",
    "These make up a single worksheet.\n",
    "\n",
    "### Understanding Cells\n",
    "At the intersection of each column and row, you'll find the basic element of a spreadsheet: the cell.\n",
    "\n",
    "To identify a cell, note the intersection of the column and the row where the selected cell is located. The selected cell in the example above is A1.\n",
    "\n",
    "### Select a Cell\n",
    "Now that you know how to navigate a spreadsheet, you can select another cell.\n",
    "\n",
    "Try it: Click on cell C3!\n",
    "\n",
    "Cell C3 appears with a thicker border. This is because it is now the active cell, and its reference appears in the formula bar.\n",
    "\n",
    "### Select Multiple Cells\n",
    "To select multiple cells (for example, from C3 to F6), click on C3 and, while holding down the left mouse button, drag to F6.\n",
    "\n",
    "Alternatively, you can:\n",
    "\n",
    "Click on C3.\n",
    "Hold the Shift key.\n",
    "Click on F6.\n",
    "This selection is called a range of cells.\n",
    "\n",
    "Now, practice selecting the range from B4\n",
    ".\n",
    "\n",
    "Select Non-Adjacent Cells\n",
    "To select cells that are not next to each other (e.g., C3, C6, F3, and F6), follow these steps:\n",
    "\n",
    "Click on C3.\n",
    "Hold the Ctrl key.\n",
    "Click on C6, F3, and F6.\n",
    "This is called a multiple selection.\n",
    "\n",
    "Select Columns and Rows\n",
    "To select a whole column, click on the letter header of the column (e.g., click D to select column D).\n",
    "\n",
    "To select multiple columns (e.g., D, E, and F), click on column D and drag across to column F.\n",
    "\n",
    "To select rows, click on the number header of the row (e.g., click 3 to select row 3). Drag to select multiple rows (e.g., rows 3 to 5).\n",
    "\n",
    "Quiz 1: Test Your Excel Knowledge\n",
    "Question: What is the reference of the cell located at the intersection of column B and row 4?\n",
    "\n",
    "A) B4\n",
    "B) 4B\n",
    "C) 4, B\n",
    "D) Column 4, Row B\n",
    "<details> <summary>Click here to see the answer</summary>\n",
    "Answer: The correct answer is A) B4.\n",
    "\n",
    "</details>\n",
    "Quiz 2: Select Cells in Excel\n",
    "To select a non-adjacent range of cells (e.g., B2, D2, F2), which key should you hold while clicking the cells?\n",
    "A) Shift\n",
    "B) Ctrl\n",
    "C) Alt\n",
    "<details> <summary>Click here to see the answer</summary>\n",
    "Answer: The correct answer is B) Ctrl.\n",
    "\n",
    "</details>\n",
    "Python Example: Simulating Cell Selections\n",
    "Let's explore how we could simulate the concept of selecting cells and working with ranges in Python."
   ]
  },
  {
   "cell_type": "code",
   "execution_count": null,
   "id": "bccb1c75-d900-4d9f-8358-59e2524ff7ec",
   "metadata": {},
   "outputs": [],
   "source": []
  }
 ],
 "metadata": {
  "celltoolbar": "Tags",
  "kernelspec": {
   "display_name": "Python 3 (ipykernel)",
   "language": "python",
   "name": "python3"
  },
  "language_info": {
   "codemirror_mode": {
    "name": "ipython",
    "version": 3
   },
   "file_extension": ".py",
   "mimetype": "text/x-python",
   "name": "python",
   "nbconvert_exporter": "python",
   "pygments_lexer": "ipython3",
   "version": "3.11.4"
  },
  "toc-showtags": false
 },
 "nbformat": 4,
 "nbformat_minor": 5
}
